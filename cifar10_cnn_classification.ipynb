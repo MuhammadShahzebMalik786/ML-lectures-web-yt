{
 "cells": [
  {
   "cell_type": "markdown",
   "metadata": {},
   "source": [
    "# 🖼️ CIFAR-10 CNN Classification\n",
    "\n",
    "Complete implementation of a Convolutional Neural Network for CIFAR-10 image classification.\n",
    "\n",
    "**Goal:** Achieve high accuracy (80%+) on CIFAR-10 dataset using CNN"
   ]
  },
  {
   "cell_type": "markdown",
   "metadata": {},
   "source": [
    "## 📦 Import Libraries"
   ]
  },
  {
   "cell_type": "code",
   "execution_count": null,
   "metadata": {},
   "outputs": [],
   "source": [
    "import tensorflow as tf\n",
    "from tensorflow.keras import layers, models\n",
    "import numpy as np\n",
    "import matplotlib.pyplot as plt\n",
    "import seaborn as sns\n",
    "from sklearn.metrics import classification_report, confusion_matrix\n",
    "\n",
    "print(f\"TensorFlow version: {tf.__version__}\")\n",
    "print(f\"GPU Available: {tf.config.list_physical_devices('GPU')}\")"
   ]
  },
  {
   "cell_type": "markdown",
   "metadata": {},
   "source": [
    "## 📊 Load and Explore CIFAR-10 Dataset"
   ]
  },
  {
   "cell_type": "code",
   "execution_count": null,
   "metadata": {},
   "outputs": [],
   "source": [
    "# Load CIFAR-10 dataset\n",
    "(x_train, y_train), (x_test, y_test) = tf.keras.datasets.cifar10.load_data()\n",
    "\n",
    "# Class names\n",
    "class_names = ['airplane', 'automobile', 'bird', 'cat', 'deer', \n",
    "               'dog', 'frog', 'horse', 'ship', 'truck']\n",
    "\n",
    "print(f\"Training data shape: {x_train.shape}\")\n",
    "print(f\"Training labels shape: {y_train.shape}\")\n",
    "print(f\"Test data shape: {x_test.shape}\")\n",
    "print(f\"Test labels shape: {y_test.shape}\")\n",
    "print(f\"Number of classes: {len(class_names)}\")\n",
    "print(f\"Pixel value range: {x_train.min()} to {x_train.max()}\")"
   ]
  },
  {
   "cell_type": "code",
   "execution_count": null,
   "metadata": {},
   "outputs": [],
   "source": [
    "# Visualize sample images\n",
    "plt.figure(figsize=(12, 8))\n",
    "for i in range(20):\n",
    "    plt.subplot(4, 5, i + 1)\n",
    "    plt.imshow(x_train[i])\n",
    "    plt.title(f'{class_names[y_train[i][0]]}')\n",
    "    plt.axis('off')\n",
    "plt.suptitle('Sample CIFAR-10 Images', fontsize=16)\n",
    "plt.tight_layout()\n",
    "plt.show()"
   ]
  },
  {
   "cell_type": "markdown",
   "metadata": {},
   "source": [
    "## 🔧 Data Preprocessing"
   ]
  },
  {
   "cell_type": "code",
   "execution_count": null,
   "metadata": {},
   "outputs": [],
   "source": [
    "# Normalize pixel values to [0, 1]\n",
    "x_train = x_train.astype('float32') / 255.0\n",
    "x_test = x_test.astype('float32') / 255.0\n",
    "\n",
    "# Convert labels to categorical (one-hot encoding)\n",
    "y_train_cat = tf.keras.utils.to_categorical(y_train, 10)\n",
    "y_test_cat = tf.keras.utils.to_categorical(y_test, 10)\n",
    "\n",
    "print(f\"Normalized pixel range: {x_train.min()} to {x_train.max()}\")\n",
    "print(f\"Original label shape: {y_train.shape}\")\n",
    "print(f\"Categorical label shape: {y_train_cat.shape}\")\n",
    "print(f\"Sample original label: {y_train[0]}\")\n",
    "print(f\"Sample categorical label: {y_train_cat[0]}\")"
   ]
  },
  {
   "cell_type": "markdown",
   "metadata": {},
   "source": [
    "## 🏗️ Build CNN Model"
   ]
  },
  {
   "cell_type": "code",
   "execution_count": null,
   "metadata": {},
   "outputs": [],
   "source": [
    "def create_cnn_model():\n",
    "    \"\"\"Create a CNN model for CIFAR-10 classification\"\"\"\n",
    "    model = models.Sequential([\n",
    "        # First Convolutional Block\n",
    "        layers.Conv2D(32, (3, 3), activation='relu', input_shape=(32, 32, 3)),\n",
    "        layers.BatchNormalization(),\n",
    "        layers.Conv2D(32, (3, 3), activation='relu'),\n",
    "        layers.MaxPooling2D((2, 2)),\n",
    "        layers.Dropout(0.25),\n",
    "        \n",
    "        # Second Convolutional Block\n",
    "        layers.Conv2D(64, (3, 3), activation='relu'),\n",
    "        layers.BatchNormalization(),\n",
    "        layers.Conv2D(64, (3, 3), activation='relu'),\n",
    "        layers.MaxPooling2D((2, 2)),\n",
    "        layers.Dropout(0.25),\n",
    "        \n",
    "        # Third Convolutional Block\n",
    "        layers.Conv2D(128, (3, 3), activation='relu'),\n",
    "        layers.BatchNormalization(),\n",
    "        layers.Dropout(0.25),\n",
    "        \n",
    "        # Classifier\n",
    "        layers.Flatten(),\n",
    "        layers.Dense(512, activation='relu'),\n",
    "        layers.BatchNormalization(),\n",
    "        layers.Dropout(0.5),\n",
    "        layers.Dense(10, activation='softmax')\n",
    "    ])\n",
    "    \n",
    "    return model\n",
    "\n",
    "# Create and compile model\n",
    "model = create_cnn_model()\n",
    "\n",
    "model.compile(\n",
    "    optimizer='adam',\n",
    "    loss='categorical_crossentropy',\n",
    "    metrics=['accuracy']\n",
    ")\n",
    "\n",
    "# Display model architecture\n",
    "model.summary()"
   ]
  },
  {
   "cell_type": "markdown",
   "metadata": {},
   "source": [
    "## 📈 Data Augmentation"
   ]
  },
  {
   "cell_type": "code",
   "execution_count": null,
   "metadata": {},
   "outputs": [],
   "source": [
    "# Create data augmentation\n",
    "datagen = tf.keras.preprocessing.image.ImageDataGenerator(\n",
    "    rotation_range=15,\n",
    "    width_shift_range=0.1,\n",
    "    height_shift_range=0.1,\n",
    "    horizontal_flip=True,\n",
    "    zoom_range=0.1\n",
    ")\n",
    "\n",
    "# Fit the data generator\n",
    "datagen.fit(x_train)\n",
    "\n",
    "# Visualize augmented images\n",
    "plt.figure(figsize=(12, 4))\n",
    "sample_image = x_train[0:1]  # Take first image\n",
    "\n",
    "plt.subplot(1, 6, 1)\n",
    "plt.imshow(sample_image[0])\n",
    "plt.title('Original')\n",
    "plt.axis('off')\n",
    "\n",
    "# Generate 5 augmented versions\n",
    "i = 2\n",
    "for batch in datagen.flow(sample_image, batch_size=1):\n",
    "    plt.subplot(1, 6, i)\n",
    "    plt.imshow(batch[0])\n",
    "    plt.title(f'Augmented {i-1}')\n",
    "    plt.axis('off')\n",
    "    i += 1\n",
    "    if i > 6:\n",
    "        break\n",
    "\n",
    "plt.suptitle('Data Augmentation Examples')\n",
    "plt.tight_layout()\n",
    "plt.show()"
   ]
  },
  {
   "cell_type": "markdown",
   "metadata": {},
   "source": [
    "## 🚀 Train the Model"
   ]
  },
  {
   "cell_type": "code",
   "execution_count": null,
   "metadata": {},
   "outputs": [],
   "source": [
    "# Define callbacks\n",
    "callbacks = [\n",
    "    tf.keras.callbacks.EarlyStopping(patience=5, restore_best_weights=True),\n",
    "    tf.keras.callbacks.ReduceLROnPlateau(factor=0.5, patience=3)\n",
    "]\n",
    "\n",
    "# Train the model\n",
    "batch_size = 32\n",
    "epochs = 50\n",
    "\n",
    "history = model.fit(\n",
    "    datagen.flow(x_train, y_train_cat, batch_size=batch_size),\n",
    "    steps_per_epoch=len(x_train) // batch_size,\n",
    "    epochs=epochs,\n",
    "    validation_data=(x_test, y_test_cat),\n",
    "    callbacks=callbacks,\n",
    "    verbose=1\n",
    ")"
   ]
  },
  {
   "cell_type": "markdown",
   "metadata": {},
   "source": [
    "## 📊 Visualize Training History"
   ]
  },
  {
   "cell_type": "code",
   "execution_count": null,
   "metadata": {},
   "outputs": [],
   "source": [
    "# Plot training history\n",
    "plt.figure(figsize=(12, 4))\n",
    "\n",
    "# Accuracy plot\n",
    "plt.subplot(1, 2, 1)\n",
    "plt.plot(history.history['accuracy'], label='Training Accuracy')\n",
    "plt.plot(history.history['val_accuracy'], label='Validation Accuracy')\n",
    "plt.title('Model Accuracy')\n",
    "plt.xlabel('Epoch')\n",
    "plt.ylabel('Accuracy')\n",
    "plt.legend()\n",
    "plt.grid(True)\n",
    "\n",
    "# Loss plot\n",
    "plt.subplot(1, 2, 2)\n",
    "plt.plot(history.history['loss'], label='Training Loss')\n",
    "plt.plot(history.history['val_loss'], label='Validation Loss')\n",
    "plt.title('Model Loss')\n",
    "plt.xlabel('Epoch')\n",
    "plt.ylabel('Loss')\n",
    "plt.legend()\n",
    "plt.grid(True)\n",
    "\n",
    "plt.tight_layout()\n",
    "plt.show()"
   ]
  },
  {
   "cell_type": "markdown",
   "metadata": {},
   "source": [
    "## 🎯 Evaluate Model Performance"
   ]
  },
  {
   "cell_type": "code",
   "execution_count": null,
   "metadata": {},
   "outputs": [],
   "source": [
    "# Evaluate on test set\n",
    "test_loss, test_accuracy = model.evaluate(x_test, y_test_cat, verbose=0)\n",
    "print(f\"Test Accuracy: {test_accuracy:.4f} ({test_accuracy*100:.2f}%)\")\n",
    "print(f\"Test Loss: {test_loss:.4f}\")\n",
    "\n",
    "# Make predictions\n",
    "predictions = model.predict(x_test)\n",
    "predicted_classes = np.argmax(predictions, axis=1)\n",
    "true_classes = y_test.flatten()\n",
    "\n",
    "# Classification report\n",
    "print(\"\\nClassification Report:\")\n",
    "print(classification_report(true_classes, predicted_classes, target_names=class_names))"
   ]
  },
  {
   "cell_type": "markdown",
   "metadata": {},
   "source": [
    "## 🔍 Confusion Matrix"
   ]
  },
  {
   "cell_type": "code",
   "execution_count": null,
   "metadata": {},
   "outputs": [],
   "source": [
    "# Create confusion matrix\n",
    "cm = confusion_matrix(true_classes, predicted_classes)\n",
    "\n",
    "plt.figure(figsize=(10, 8))\n",
    "sns.heatmap(cm, annot=True, fmt='d', cmap='Blues', \n",
    "            xticklabels=class_names, yticklabels=class_names)\n",
    "plt.title('Confusion Matrix')\n",
    "plt.xlabel('Predicted Label')\n",
    "plt.ylabel('True Label')\n",
    "plt.xticks(rotation=45)\n",
    "plt.yticks(rotation=0)\n",
    "plt.tight_layout()\n",
    "plt.show()\n",
    "\n",
    "# Calculate per-class accuracy\n",
    "class_accuracy = cm.diagonal() / cm.sum(axis=1)\n",
    "for i, acc in enumerate(class_accuracy):\n",
    "    print(f\"{class_names[i]}: {acc:.3f} ({acc*100:.1f}%)\")"
   ]
  },
  {
   "cell_type": "markdown",
   "metadata": {},
   "source": [
    "## 🖼️ Visualize Predictions"
   ]
  },
  {
   "cell_type": "code",
   "execution_count": null,
   "metadata": {},
   "outputs": [],
   "source": [
    "# Function to display predictions\n",
    "def plot_predictions(images, true_labels, predictions, class_names, num_images=12):\n",
    "    plt.figure(figsize=(15, 10))\n",
    "    \n",
    "    for i in range(num_images):\n",
    "        plt.subplot(3, 4, i + 1)\n",
    "        plt.imshow(images[i])\n",
    "        \n",
    "        predicted_class = np.argmax(predictions[i])\n",
    "        true_class = true_labels[i]\n",
    "        confidence = np.max(predictions[i]) * 100\n",
    "        \n",
    "        # Color: green if correct, red if wrong\n",
    "        color = 'green' if predicted_class == true_class else 'red'\n",
    "        \n",
    "        plt.title(f'True: {class_names[true_class]}\\n'\n",
    "                 f'Pred: {class_names[predicted_class]}\\n'\n",
    "                 f'Conf: {confidence:.1f}%', color=color)\n",
    "        plt.axis('off')\n",
    "    \n",
    "    plt.tight_layout()\n",
    "    plt.show()\n",
    "\n",
    "# Show some predictions\n",
    "plot_predictions(x_test[:12], true_classes[:12], predictions[:12], class_names)"
   ]
  },
  {
   "cell_type": "markdown",
   "metadata": {},
   "source": [
    "## 💾 Save the Model"
   ]
  },
  {
   "cell_type": "code",
   "execution_count": null,
   "metadata": {},
   "outputs": [],
   "source": [
    "# Save the trained model\n",
    "model.save('cifar10_cnn_model.h5')\n",
    "print(\"Model saved as 'cifar10_cnn_model.h5'\")\n",
    "\n",
    "# Save model in SavedModel format (recommended)\n",
    "model.save('cifar10_cnn_model')\n",
    "print(\"Model saved as 'cifar10_cnn_model' directory\")"
   ]
  },
  {
   "cell_type": "markdown",
   "metadata": {},
   "source": [
    "## 🎯 Make Predictions on New Images"
   ]
  },
  {
   "cell_type": "code",
   "execution_count": null,
   "metadata": {},
   "outputs": [],
   "source": [
    "def predict_image(model, image, class_names):\n",
    "    \"\"\"Predict class for a single image\"\"\"\n",
    "    # Ensure image is in correct format\n",
    "    if len(image.shape) == 3:\n",
    "        image = np.expand_dims(image, axis=0)\n",
    "    \n",
    "    # Make prediction\n",
    "    prediction = model.predict(image, verbose=0)\n",
    "    predicted_class = np.argmax(prediction)\n",
    "    confidence = np.max(prediction) * 100\n",
    "    \n",
    "    return class_names[predicted_class], confidence, prediction[0]\n",
    "\n",
    "# Test with a few random images\n",
    "test_indices = np.random.choice(len(x_test), 5, replace=False)\n",
    "\n",
    "for idx in test_indices:\n",
    "    image = x_test[idx]\n",
    "    true_label = class_names[true_classes[idx]]\n",
    "    \n",
    "    predicted_label, confidence, probabilities = predict_image(model, image, class_names)\n",
    "    \n",
    "    print(f\"\\nImage {idx}:\")\n",
    "    print(f\"True label: {true_label}\")\n",
    "    print(f\"Predicted: {predicted_label} ({confidence:.1f}% confident)\")\n",
    "    print(f\"Top 3 predictions:\")\n",
    "    \n",
    "    # Show top 3 predictions\n",
    "    top_3_indices = np.argsort(probabilities)[-3:][::-1]\n",
    "    for i, class_idx in enumerate(top_3_indices):\n",
    "        print(f\"  {i+1}. {class_names[class_idx]}: {probabilities[class_idx]*100:.1f}%\")"
   ]
  },
  {
   "cell_type": "markdown",
   "metadata": {},
   "source": [
    "## 📋 Summary\n",
    "\n",
    "### What we accomplished:\n",
    "- ✅ Built a CNN for CIFAR-10 classification\n",
    "- ✅ Used data augmentation to improve performance\n",
    "- ✅ Achieved high accuracy (target: 80%+)\n",
    "- ✅ Visualized training progress and results\n",
    "- ✅ Analyzed model performance with confusion matrix\n",
    "- ✅ Saved the trained model for future use\n",
    "\n",
    "### Key techniques used:\n",
    "- **Batch Normalization**: Stabilizes training\n",
    "- **Dropout**: Prevents overfitting\n",
    "- **Data Augmentation**: Increases dataset diversity\n",
    "- **Early Stopping**: Prevents overtraining\n",
    "- **Learning Rate Scheduling**: Optimizes convergence\n",
    "\n",
    "### Next steps to improve:\n",
    "- Try different architectures (ResNet, EfficientNet)\n",
    "- Experiment with different optimizers\n",
    "- Use transfer learning from pre-trained models\n",
    "- Implement ensemble methods"
   ]
  }
 ],
 "metadata": {
  "kernelspec": {
   "display_name": "Python 3",
   "language": "python",
   "name": "python3"
  },
  "language_info": {
   "codemirror_mode": {
    "name": "ipython",
    "version": 3
   },
   "file_extension": ".py",
   "mimetype": "text/x-python",
   "name": "python",
   "nbconvert_exporter": "python",
   "pygments_lexer": "ipython3",
   "version": "3.8.5"
  }
 },
 "nbformat": 4,
 "nbformat_minor": 4
}
