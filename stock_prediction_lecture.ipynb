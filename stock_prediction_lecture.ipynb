{
 "cells": [
  {
   "cell_type": "markdown",
   "metadata": {
    "id": "title"
   },
   "source": [
    "# 🚀 AI Stock Price Prediction - Complete Lecture\n",
    "## Learn Machine Learning by Predicting Tesla Stock Prices\n",
    "\n",
    "### 🎯 What You'll Learn:\n",
    "- How to get real stock data\n",
    "- Feature engineering for time series\n",
    "- Linear regression for predictions\n",
    "- Model evaluation and accuracy\n",
    "- Making future predictions\n",
    "\n",
    "### ⚠️ Disclaimer: This is for educational purposes only - not financial advice!"
   ]
  },
  {
   "cell_type": "markdown",
   "metadata": {
    "id": "step1"
   },
   "source": [
    "## 📦 Step 1: Install Required Libraries\n",
    "First, let's install the libraries we need:"
   ]
  },
  {
   "cell_type": "code",
   "execution_count": null,
   "metadata": {
    "id": "install"
   },
   "outputs": [],
   "source": [
    "!pip install yfinance scikit-learn matplotlib seaborn\n",
    "\n",
    "import yfinance as yf\n",
    "import pandas as pd\n",
    "import numpy as np\n",
    "import matplotlib.pyplot as plt\n",
    "import seaborn as sns\n",
    "from sklearn.linear_model import LinearRegression\n",
    "from sklearn.model_selection import train_test_split\n",
    "from sklearn.metrics import mean_squared_error, r2_score, mean_absolute_error\n",
    "from datetime import datetime, timedelta\n",
    "import warnings\n",
    "warnings.filterwarnings('ignore')\n",
    "\n",
    "print(\"✅ All libraries installed successfully!\")"
   ]
  },
  {
   "cell_type": "markdown",
   "metadata": {
    "id": "step2"
   },
   "source": [
    "## 📊 Step 2: Get Real Stock Data\n",
    "Let's download Tesla stock data from Yahoo Finance:"
   ]
  },
  {
   "cell_type": "code",
   "execution_count": null,
   "metadata": {
    "id": "data"
   },
   "outputs": [],
   "source": [
    "# Download Tesla stock data\n",
    "print(\"📈 Downloading Tesla (TSLA) stock data...\")\n",
    "\n",
    "# Get 2 years of data\n",
    "tesla = yf.Ticker(\"TSLA\")\n",
    "data = tesla.history(period=\"2y\")\n",
    "\n",
    "print(f\"✅ Downloaded {len(data)} days of Tesla stock data\")\n",
    "print(f\"📅 Date range: {data.index[0].date()} to {data.index[-1].date()}\")\n",
    "print(f\"💰 Current price: ${data['Close'].iloc[-1]:.2f}\")\n",
    "\n",
    "# Show first few rows\n",
    "print(\"\\n📋 First 5 rows of data:\")\n",
    "data.head()"
   ]
  },
  {
   "cell_type": "markdown",
   "metadata": {
    "id": "step3"
   },
   "source": [
    "## 📈 Step 3: Visualize the Stock Data\n",
    "Let's see what Tesla's stock looks like:"
   ]
  },
  {
   "cell_type": "code",
   "execution_count": null,
   "metadata": {
    "id": "visualize"
   },
   "outputs": [],
   "source": [
    "# Create a beautiful plot\n",
    "plt.figure(figsize=(15, 8))\n",
    "\n",
    "# Plot closing price\n",
    "plt.subplot(2, 1, 1)\n",
    "plt.plot(data.index, data['Close'], color='#1f77b4', linewidth=2)\n",
    "plt.title('🚗 Tesla Stock Price Over Time', fontsize=16, fontweight='bold')\n",
    "plt.ylabel('Price ($)', fontsize=12)\n",
    "plt.grid(True, alpha=0.3)\n",
    "\n",
    "# Plot volume\n",
    "plt.subplot(2, 1, 2)\n",
    "plt.plot(data.index, data['Volume'], color='orange', alpha=0.7)\n",
    "plt.title('📊 Trading Volume', fontsize=14)\n",
    "plt.ylabel('Volume', fontsize=12)\n",
    "plt.xlabel('Date', fontsize=12)\n",
    "plt.grid(True, alpha=0.3)\n",
    "\n",
    "plt.tight_layout()\n",
    "plt.show()\n",
    "\n",
    "# Show some statistics\n",
    "print(\"📊 Tesla Stock Statistics:\")\n",
    "print(f\"Highest price: ${data['High'].max():.2f}\")\n",
    "print(f\"Lowest price: ${data['Low'].min():.2f}\")\n",
    "print(f\"Average price: ${data['Close'].mean():.2f}\")\n",
    "print(f\"Price volatility: {data['Close'].std():.2f}\")"
   ]
  },
  {
   "cell_type": "markdown",
   "metadata": {
    "id": "step4"
   },
   "source": [
    "## 🔧 Step 4: Feature Engineering\n",
    "Now let's create features that our AI can learn from:"
   ]
  },
  {
   "cell_type": "code",
   "execution_count": null,
   "metadata": {
    "id": "features"
   },
   "outputs": [],
   "source": [
    "# Create a copy of our data\n",
    "df = data.copy()\n",
    "\n",
    "print(\"🔧 Creating AI features...\")\n",
    "\n",
    "# 1. Day number (trend feature)\n",
    "df['Day'] = range(len(df))\n",
    "\n",
    "# 2. Moving averages (trend indicators)\n",
    "df['MA_5'] = df['Close'].rolling(window=5).mean()    # 5-day average\n",
    "df['MA_10'] = df['Close'].rolling(window=10).mean()  # 10-day average\n",
    "df['MA_20'] = df['Close'].rolling(window=20).mean()  # 20-day average\n",
    "\n",
    "# 3. Price changes\n",
    "df['Price_Change'] = df['Close'].pct_change()        # Daily % change\n",
    "df['High_Low_Ratio'] = df['High'] / df['Low']        # Daily range\n",
    "\n",
    "# 4. Volume indicators\n",
    "df['Volume_MA'] = df['Volume'].rolling(window=5).mean()  # Volume average\n",
    "df['Volume_Ratio'] = df['Volume'] / df['Volume_MA']      # Volume vs average\n",
    "\n",
    "# 5. Technical indicators\n",
    "df['RSI'] = 50  # Simplified RSI (normally more complex)\n",
    "df['Volatility'] = df['Close'].rolling(window=10).std()  # Price volatility\n",
    "\n",
    "# Remove rows with NaN values\n",
    "df = df.dropna()\n",
    "\n",
    "print(f\"✅ Created {len(df.columns)} features\")\n",
    "print(f\"📊 Clean data: {len(df)} rows\")\n",
    "\n",
    "# Show our features\n",
    "feature_columns = ['Day', 'Open', 'High', 'Low', 'Volume', 'MA_5', 'MA_10', 'MA_20', \n",
    "                  'Price_Change', 'High_Low_Ratio', 'Volume_MA', 'Volume_Ratio', 'RSI', 'Volatility']\n",
    "\n",
    "print(\"\\n🎯 Features we'll use to predict stock price:\")\n",
    "for i, feature in enumerate(feature_columns, 1):\n",
    "    print(f\"{i:2d}. {feature}\")\n",
    "\n",
    "df[feature_columns + ['Close']].head()"
   ]
  },
  {
   "cell_type": "markdown",
   "metadata": {
    "id": "step5"
   },
   "source": [
    "## 🤖 Step 5: Train the AI Model\n",
    "Time to teach our AI to predict stock prices!"
   ]
  },
  {
   "cell_type": "code",
   "execution_count": null,
   "metadata": {
    "id": "train"
   },
   "outputs": [],
   "source": [
    "print(\"🤖 Training AI to predict Tesla stock prices...\")\n",
    "\n",
    "# Prepare features (X) and target (y)\n",
    "X = df[feature_columns]\n",
    "y = df['Close']  # This is what we want to predict\n",
    "\n",
    "print(f\"📊 Training data shape: {X.shape}\")\n",
    "print(f\"🎯 Target data shape: {y.shape}\")\n",
    "\n",
    "# Split data: 80% for training, 20% for testing\n",
    "X_train, X_test, y_train, y_test = train_test_split(\n",
    "    X, y, test_size=0.2, random_state=42, shuffle=False  # Don't shuffle time series!\n",
    ")\n",
    "\n",
    "print(f\"🏋️ Training set: {len(X_train)} samples\")\n",
    "print(f\"🧪 Test set: {len(X_test)} samples\")\n",
    "\n",
    "# Create and train the AI model\n",
    "model = LinearRegression()\n",
    "model.fit(X_train, y_train)\n",
    "\n",
    "print(\"\\n✅ AI training complete!\")\n",
    "print(\"🧠 The AI has learned patterns in Tesla's stock data\")"
   ]
  },
  {
   "cell_type": "markdown",
   "metadata": {
    "id": "step6"
   },
   "source": [
    "## 🎯 Step 6: Test the AI's Predictions\n",
    "Let's see how well our AI can predict Tesla's stock price:"
   ]
  },
  {
   "cell_type": "code",
   "execution_count": null,
   "metadata": {
    "id": "test"
   },
   "outputs": [],
   "source": [
    "print(\"🔮 Testing AI predictions...\")\n",
    "\n",
    "# Make predictions on test data\n",
    "y_pred = model.predict(X_test)\n",
    "\n",
    "# Calculate accuracy metrics\n",
    "r2 = r2_score(y_test, y_pred)\n",
    "mse = mean_squared_error(y_test, y_pred)\n",
    "mae = mean_absolute_error(y_test, y_pred)\n",
    "rmse = np.sqrt(mse)\n",
    "\n",
    "print(\"\\n📊 AI Performance Results:\")\n",
    "print(f\"🎯 Accuracy (R²): {r2:.3f} ({r2*100:.1f}%)\")\n",
    "print(f\"💰 Average error: ${mae:.2f}\")\n",
    "print(f\"📈 Root Mean Square Error: ${rmse:.2f}\")\n",
    "\n",
    "# Show some example predictions\n",
    "print(\"\\n🔍 Sample Predictions:\")\n",
    "print(\"Actual Price | AI Prediction | Difference\")\n",
    "print(\"-\" * 45)\n",
    "\n",
    "for i in range(10):\n",
    "    actual = y_test.iloc[i]\n",
    "    predicted = y_pred[i]\n",
    "    diff = abs(actual - predicted)\n",
    "    print(f\"${actual:8.2f}   | ${predicted:10.2f}   | ${diff:6.2f}\")\n",
    "\n",
    "# Performance interpretation\n",
    "if r2 > 0.8:\n",
    "    print(\"\\n🎉 Excellent! AI is very accurate\")\n",
    "elif r2 > 0.6:\n",
    "    print(\"\\n👍 Good! AI shows strong predictive power\")\n",
    "elif r2 > 0.4:\n",
    "    print(\"\\n📈 Decent! AI has some predictive ability\")\n",
    "else:\n",
    "    print(\"\\n🤔 AI needs improvement - try more features or different model\")"
   ]
  },
  {
   "cell_type": "markdown",
   "metadata": {
    "id": "step7"
   },
   "source": [
    "## 📈 Step 7: Visualize AI vs Reality\n",
    "Let's see how our AI predictions compare to actual prices:"
   ]
  },
  {
   "cell_type": "code",
   "execution_count": null,
   "metadata": {
    "id": "visualize_results"
   },
   "outputs": [],
   "source": [
    "# Create visualization\n",
    "plt.figure(figsize=(15, 10))\n",
    "\n",
    "# Plot 1: Actual vs Predicted scatter plot\n",
    "plt.subplot(2, 2, 1)\n",
    "plt.scatter(y_test, y_pred, alpha=0.6, color='blue')\n",
    "plt.plot([y_test.min(), y_test.max()], [y_test.min(), y_test.max()], 'r--', lw=2)\n",
    "plt.xlabel('Actual Price ($)')\n",
    "plt.ylabel('AI Predicted Price ($)')\n",
    "plt.title('🎯 AI Accuracy: Actual vs Predicted')\n",
    "plt.grid(True, alpha=0.3)\n",
    "\n",
    "# Plot 2: Time series comparison\n",
    "plt.subplot(2, 2, 2)\n",
    "test_dates = df.index[-len(y_test):]\n",
    "plt.plot(test_dates, y_test.values, label='📈 Actual Price', linewidth=2, color='green')\n",
    "plt.plot(test_dates, y_pred, label='🤖 AI Prediction', linewidth=2, color='red', alpha=0.8)\n",
    "plt.title('📊 Tesla Stock: AI vs Reality Over Time')\n",
    "plt.ylabel('Price ($)')\n",
    "plt.legend()\n",
    "plt.xticks(rotation=45)\n",
    "plt.grid(True, alpha=0.3)\n",
    "\n",
    "# Plot 3: Prediction errors\n",
    "plt.subplot(2, 2, 3)\n",
    "errors = y_test.values - y_pred\n",
    "plt.hist(errors, bins=20, alpha=0.7, color='orange')\n",
    "plt.xlabel('Prediction Error ($)')\n",
    "plt.ylabel('Frequency')\n",
    "plt.title('📊 Distribution of AI Errors')\n",
    "plt.grid(True, alpha=0.3)\n",
    "\n",
    "# Plot 4: Feature importance\n",
    "plt.subplot(2, 2, 4)\n",
    "importance = abs(model.coef_)\n",
    "feature_importance = pd.DataFrame({\n",
    "    'Feature': feature_columns,\n",
    "    'Importance': importance\n",
    "}).sort_values('Importance', ascending=True)\n",
    "\n",
    "plt.barh(range(len(feature_importance)), feature_importance['Importance'])\n",
    "plt.yticks(range(len(feature_importance)), feature_importance['Feature'])\n",
    "plt.xlabel('Feature Importance')\n",
    "plt.title('🔍 What AI Considers Most Important')\n",
    "plt.grid(True, alpha=0.3)\n",
    "\n",
    "plt.tight_layout()\n",
    "plt.show()\n",
    "\n",
    "# Show top 3 most important features\n",
    "top_features = feature_importance.tail(3)\n",
    "print(\"\\n🏆 Top 3 Most Important Features for AI:\")\n",
    "for i, (_, row) in enumerate(top_features.iterrows(), 1):\n",
    "    print(f\"{i}. {row['Feature']} (importance: {row['Importance']:.3f})\")"
   ]
  },
  {
   "cell_type": "markdown",
   "metadata": {
    "id": "step8"
   },
   "source": [
    "## 🔮 Step 8: Predict Tomorrow's Price\n",
    "The moment of truth - let's predict Tesla's stock price for tomorrow!"
   ]
  },
  {
   "cell_type": "code",
   "execution_count": null,
   "metadata": {
    "id": "predict_tomorrow"
   },
   "outputs": [],
   "source": [
    "print(\"🔮 Predicting tomorrow's Tesla stock price...\")\n",
    "\n",
    "# Get the latest data point\n",
    "latest_features = X.iloc[-1:].values\n",
    "current_price = df['Close'].iloc[-1]\n",
    "current_date = df.index[-1].date()\n",
    "\n",
    "# Make prediction\n",
    "tomorrow_prediction = model.predict(latest_features)[0]\n",
    "price_change = tomorrow_prediction - current_price\n",
    "percent_change = (price_change / current_price) * 100\n",
    "\n",
    "print(f\"\\n📅 Current date: {current_date}\")\n",
    "print(f\"💰 Current Tesla price: ${current_price:.2f}\")\n",
    "print(f\"🤖 AI prediction for tomorrow: ${tomorrow_prediction:.2f}\")\n",
    "print(f\"📈 Expected change: ${price_change:+.2f} ({percent_change:+.1f}%)\")\n",
    "\n",
    "# Prediction confidence based on model accuracy\n",
    "confidence = r2 * 100\n",
    "print(f\"🎯 AI confidence level: {confidence:.1f}%\")\n",
    "\n",
    "# Interpretation\n",
    "if price_change > 0:\n",
    "    print(\"\\n📈 AI predicts Tesla stock will GO UP tomorrow! 🚀\")\n",
    "    emoji = \"🟢\"\n",
    "else:\n",
    "    print(\"\\n📉 AI predicts Tesla stock will GO DOWN tomorrow! 📉\")\n",
    "    emoji = \"🔴\"\n",
    "\n",
    "# Create a prediction summary\n",
    "print(f\"\\n{emoji} PREDICTION SUMMARY {emoji}\")\n",
    "print(\"=\" * 40)\n",
    "print(f\"Stock: Tesla (TSLA)\")\n",
    "print(f\"Current: ${current_price:.2f}\")\n",
    "print(f\"Predicted: ${tomorrow_prediction:.2f}\")\n",
    "print(f\"Change: {price_change:+.2f} ({percent_change:+.1f}%)\")\n",
    "print(f\"Confidence: {confidence:.1f}%\")\n",
    "print(\"=\" * 40)\n",
    "\n",
    "# Risk warning\n",
    "print(\"\\n⚠️  IMPORTANT DISCLAIMER:\")\n",
    "print(\"This is for educational purposes only!\")\n",
    "print(\"Stock markets are unpredictable - never invest based on AI predictions alone!\")\n",
    "print(\"Always do your own research and consult financial advisors.\")"
   ]
  },
  {
   "cell_type": "markdown",
   "metadata": {
    "id": "step9"
   },
   "source": [
    "## 🎓 Step 9: What We Learned\n",
    "Let's summarize the key machine learning concepts:"
   ]
  },
  {
   "cell_type": "code",
   "execution_count": null,
   "metadata": {
    "id": "summary"
   },
   "outputs": [],
   "source": [
    "print(\"🎓 MACHINE LEARNING CONCEPTS LEARNED:\")\n",
    "print(\"=\" * 50)\n",
    "\n",
    "print(\"\\n1. 📊 DATA COLLECTION:\")\n",
    "print(\"   • Used yfinance to get real stock data\")\n",
    "print(\"   • Downloaded 2 years of Tesla stock prices\")\n",
    "print(f\"   • Processed {len(data)} days of market data\")\n",
    "\n",
    "print(\"\\n2. 🔧 FEATURE ENGINEERING:\")\n",
    "print(\"   • Created moving averages (MA_5, MA_10, MA_20)\")\n",
    "print(\"   • Added price change and volatility indicators\")\n",
    "print(\"   • Included volume-based features\")\n",
    "print(f\"   • Built {len(feature_columns)} predictive features\")\n",
    "\n",
    "print(\"\\n3. 🤖 MODEL TRAINING:\")\n",
    "print(\"   • Used Linear Regression algorithm\")\n",
    "print(\"   • Split data: 80% training, 20% testing\")\n",
    "print(\"   • Trained AI to find patterns in stock data\")\n",
    "\n",
    "print(\"\\n4. 📈 MODEL EVALUATION:\")\n",
    "print(f\"   • Accuracy (R²): {r2:.3f} ({r2*100:.1f}%)\")\n",
    "print(f\"   • Average prediction error: ${mae:.2f}\")\n",
    "print(\"   • Visualized predictions vs reality\")\n",
    "\n",
    "print(\"\\n5. 🔮 MAKING PREDICTIONS:\")\n",
    "print(\"   • Used trained model on latest data\")\n",
    "print(f\"   • Predicted tomorrow's price: ${tomorrow_prediction:.2f}\")\n",
    "print(f\"   • Expected change: {percent_change:+.1f}%\")\n",
    "\n",
    "print(\"\\n6. 🧠 KEY ML INSIGHTS:\")\n",
    "print(\"   • More data generally = better predictions\")\n",
    "print(\"   • Feature engineering is crucial\")\n",
    "print(\"   • Always validate on unseen test data\")\n",
    "print(\"   • No model is 100% accurate\")\n",
    "print(\"   • Financial markets are especially hard to predict\")\n",
    "\n",
    "print(\"\\n\" + \"=\" * 50)\n",
    "print(\"🎉 Congratulations! You've built an AI stock predictor!\")\n",
    "print(\"🚀 You now understand the fundamentals of machine learning!\")"
   ]
  },
  {
   "cell_type": "markdown",
   "metadata": {
    "id": "bonus"
   },
   "source": [
    "## 🚀 BONUS: Try Different Stocks!\n",
    "Want to test other stocks? Run this cell:"
   ]
  },
  {
   "cell_type": "code",
   "execution_count": null,
   "metadata": {
    "id": "bonus_stocks"
   },
   "outputs": [],
   "source": [
    "# Try different stocks\n",
    "stocks_to_try = ['AAPL', 'GOOGL', 'MSFT', 'AMZN', 'NVDA']\n",
    "\n",
    "print(\"🚀 BONUS: Testing AI on different stocks!\")\n",
    "print(\"=\" * 50)\n",
    "\n",
    "for stock_symbol in stocks_to_try:\n",
    "    try:\n",
    "        # Get stock data\n",
    "        stock = yf.Ticker(stock_symbol)\n",
    "        stock_data = stock.history(period=\"1y\")\n",
    "        \n",
    "        if len(stock_data) > 50:  # Ensure we have enough data\n",
    "            # Quick prediction using same model structure\n",
    "            current_price = stock_data['Close'].iloc[-1]\n",
    "            \n",
    "            # Simple features for quick test\n",
    "            stock_data['Day'] = range(len(stock_data))\n",
    "            stock_data['MA_5'] = stock_data['Close'].rolling(5).mean()\n",
    "            stock_data = stock_data.dropna()\n",
    "            \n",
    "            # Quick model\n",
    "            X_simple = stock_data[['Day', 'Open', 'High', 'Low', 'Volume', 'MA_5']]\n",
    "            y_simple = stock_data['Close']\n",
    "            \n",
    "            quick_model = LinearRegression()\n",
    "            quick_model.fit(X_simple, y_simple)\n",
    "            \n",
    "            # Predict\n",
    "            prediction = quick_model.predict(X_simple.iloc[-1:].values)[0]\n",
    "            change = prediction - current_price\n",
    "            \n",
    "            print(f\"📈 {stock_symbol}: ${current_price:.2f} → ${prediction:.2f} ({change:+.2f})\")\n",
    "        \n",
    "    except Exception as e:\n",
    "        print(f\"❌ {stock_symbol}: Could not analyze\")\n",
    "\n",
    "print(\"\\n🎯 Try modifying the code above to test your favorite stocks!\")"
   ]
  }\n",
 ],\n",
 \"metadata\": {\n",
  \"colab\": {\n",
   \"provenance\": []\n",
  },\n  \"kernelspec\": {\n   \"display_name\": \"Python 3\",\n   \"language\": \"python\",\n   \"name\": \"python3\"\n  },\n  \"language_info\": {\n   \"codemirror_mode\": {\n    \"name\": \"ipython\",\n    \"version\": 3\n   },\n   \"file_extension\": \".py\",\n   \"mimetype\": \"text/x-python\",\n   \"name\": \"python\",\n   \"nbconvert_exporter\": \"python\",\n   \"pygments_lexer\": \"ipython3\",\n   \"version\": \"3.8.5\"\n  }\n },\n \"nbformat\": 4,\n \"nbformat_minor\": 4\n}
