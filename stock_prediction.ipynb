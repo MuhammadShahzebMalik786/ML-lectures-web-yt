{
 "cells": [
  {
   "cell_type": "markdown",
   "metadata": {},
   "source": [
    "# 📈 AI Stock Price Prediction\n",
    "## Using Linear Regression to Predict Stock Prices"
   ]
  },
  {
   "cell_type": "code",
   "execution_count": null,
   "metadata": {},
   "outputs": [],
   "source": [
    "# Install required packages\n",
    "!pip install yfinance scikit-learn pandas numpy matplotlib streamlit"
   ]
  },
  {
   "cell_type": "code",
   "execution_count": null,
   "metadata": {},
   "outputs": [],
   "source": [
    "import yfinance as yf\n",
    "import pandas as pd\n",
    "import numpy as np\n",
    "from sklearn.linear_model import LinearRegression\n",
    "from sklearn.model_selection import train_test_split\n",
    "from sklearn.metrics import mean_squared_error, r2_score\n",
    "import matplotlib.pyplot as plt\n",
    "import pickle"
   ]
  },
  {
   "cell_type": "code",
   "execution_count": null,
   "metadata": {},
   "outputs": [],
   "source": [
    "# Get stock data\n",
    "def get_stock_data(symbol, period=\"1y\"):\n",
    "    stock = yf.Ticker(symbol)\n",
    "    data = stock.history(period=period)\n",
    "    return data\n",
    "\n",
    "# Get Tesla data\n",
    "tesla_data = get_stock_data(\"TSLA\")\n",
    "print(f\"Data shape: {tesla_data.shape}\")\n",
    "tesla_data.head()"
   ]
  },
  {
   "cell_type": "code",
   "execution_count": null,
   "metadata": {},
   "outputs": [],
   "source": [
    "# Prepare features\n",
    "def prepare_features(data):\n",
    "    df = data.copy()\n",
    "    df['Day'] = range(len(df))\n",
    "    df['MA_5'] = df['Close'].rolling(5).mean()\n",
    "    df['MA_10'] = df['Close'].rolling(10).mean()\n",
    "    df['Volume_MA'] = df['Volume'].rolling(5).mean()\n",
    "    df = df.dropna()\n",
    "    \n",
    "    features = ['Day', 'Open', 'High', 'Low', 'Volume', 'MA_5', 'MA_10', 'Volume_MA']\n",
    "    X = df[features]\n",
    "    y = df['Close']\n",
    "    \n",
    "    return X, y, df\n",
    "\n",
    "X, y, processed_data = prepare_features(tesla_data)\n",
    "print(f\"Features shape: {X.shape}\")\n",
    "print(f\"Target shape: {y.shape}\")"
   ]
  },
  {
   "cell_type": "code",
   "execution_count": null,
   "metadata": {},
   "outputs": [],
   "source": [
    "# Train model\n",
    "X_train, X_test, y_train, y_test = train_test_split(X, y, test_size=0.2, random_state=42)\n",
    "\n",
    "model = LinearRegression()\n",
    "model.fit(X_train, y_train)\n",
    "\n",
    "# Predictions\n",
    "y_pred = model.predict(X_test)\n",
    "\n",
    "# Metrics\n",
    "mse = mean_squared_error(y_test, y_pred)\n",
    "r2 = r2_score(y_test, y_pred)\n",
    "\n",
    "print(f\"MSE: {mse:.2f}\")\n",
    "print(f\"R² Score: {r2:.2f}\")\n",
    "print(f\"Accuracy: {r2*100:.1f}%\")"
   ]
  },
  {
   "cell_type": "code",
   "execution_count": null,
   "metadata": {},
   "outputs": [],
   "source": [
    "# Plot results\n",
    "plt.figure(figsize=(12, 6))\n",
    "plt.scatter(y_test, y_pred, alpha=0.7)\n",
    "plt.plot([y_test.min(), y_test.max()], [y_test.min(), y_test.max()], 'r--', lw=2)\n",
    "plt.xlabel('Actual Price')\n",
    "plt.ylabel('Predicted Price')\n",
    "plt.title('Tesla Stock Price Prediction')\n",
    "plt.show()\n",
    "\n",
    "# Time series plot\n",
    "plt.figure(figsize=(12, 6))\n",
    "plt.plot(processed_data.index[-len(y_test):], y_test.values, label='Actual', alpha=0.7)\n",
    "plt.plot(processed_data.index[-len(y_test):], y_pred, label='Predicted', alpha=0.7)\n",
    "plt.legend()\n",
    "plt.title('Tesla Stock Price: Actual vs Predicted')\n",
    "plt.show()"
   ]
  },
  {
   "cell_type": "code",
   "execution_count": null,
   "metadata": {},
   "outputs": [],
   "source": [
    "# Save model\n",
    "with open('stock_model.pkl', 'wb') as f:\n",
    "    pickle.dump(model, f)\n",
    "\n",
    "print(\"Model saved as stock_model.pkl\")"
   ]
  }
 ],
 "metadata": {
  "kernelspec": {
   "display_name": "Python 3",
   "language": "python",
   "name": "python3"
  },
  "language_info": {
   "codemirror_mode": {
    "name": "ipython",
    "version": 3
   },
   "file_extension": ".py",
   "mimetype": "text/x-python",
   "name": "python",
   "nbconvert_exporter": "python",
   "pygments_lexer": "ipython3",
   "version": "3.8.5"
  }
 },
 "nbformat": 4,
 "nbformat_minor": 4
}
