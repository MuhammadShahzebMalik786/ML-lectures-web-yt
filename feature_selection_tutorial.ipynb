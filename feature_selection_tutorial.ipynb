{
 "cells": [
  {
   "cell_type": "markdown",
   "metadata": {},
   "source": [
    "# Feature Selection Methods Tutorial\n",
    "## Filter Methods, Wrapper Methods & Train-Test Evaluation"
   ]
  },
  {
   "cell_type": "code",
   "execution_count": null,
   "metadata": {},
   "outputs": [],
   "source": [
    "# Import libraries\n",
    "import numpy as np\n",
    "from sklearn.datasets import load_breast_cancer\n",
    "from sklearn.model_selection import train_test_split\n",
    "from sklearn.preprocessing import StandardScaler\n",
    "from sklearn.feature_selection import SelectKBest, f_classif, RFE\n",
    "from sklearn.ensemble import RandomForestClassifier\n",
    "from sklearn.metrics import accuracy_score\n",
    "import pandas as pd"
   ]
  },
  {
   "cell_type": "markdown",
   "metadata": {},
   "source": [
    "## 1. Load and Prepare Data"
   ]
  },
  {
   "cell_type": "code",
   "execution_count": null,
   "metadata": {},
   "outputs": [],
   "source": [
    "# Load dataset\n",
    "data = load_breast_cancer()\n",
    "X, y = data.data, data.target\n",
    "feature_names = data.feature_names\n",
    "\n",
    "print(f\"Dataset shape: {X.shape}\")\n",
    "print(f\"Features: {len(feature_names)}\")\n",
    "print(f\"Classes: {np.unique(y)}\")"
   ]
  },
  {
   "cell_type": "code",
   "execution_count": null,
   "metadata": {},
   "outputs": [],
   "source": [
    "# Train-test split\n",
    "X_train, X_test, y_train, y_test = train_test_split(\n",
    "    X, y, test_size=0.3, random_state=42, stratify=y\n",
    ")\n",
    "\n",
    "# Standardize features\n",
    "scaler = StandardScaler()\n",
    "X_train_scaled = scaler.fit_transform(X_train)\n",
    "X_test_scaled = scaler.transform(X_test)\n",
    "\n",
    "print(f\"Training set: {X_train_scaled.shape}\")\n",
    "print(f\"Test set: {X_test_scaled.shape}\")"
   ]
  },
  {
   "cell_type": "markdown",
   "metadata": {},
   "source": [
    "## 2. Filter Method - F-test"
   ]
  },
  {
   "cell_type": "code",
   "execution_count": null,
   "metadata": {},
   "outputs": [],
   "source": [
    "# Select top 10 features using F-test\n",
    "selector_f = SelectKBest(f_classif, k=10)\n",
    "X_train_f = selector_f.fit_transform(X_train_scaled, y_train)\n",
    "X_test_f = selector_f.transform(X_test_scaled)\n",
    "\n",
    "# Show selected features\n",
    "selected_features = feature_names[selector_f.get_support()]\n",
    "print(f\"Selected features ({len(selected_features)}):\")\n",
    "for i, feature in enumerate(selected_features):\n",
    "    print(f\"{i+1}. {feature}\")"
   ]
  },
  {
   "cell_type": "markdown",
   "metadata": {},
   "source": [
    "## 3. Wrapper Method - RFE"
   ]
  },
  {
   "cell_type": "code",
   "execution_count": null,
   "metadata": {},
   "outputs": [],
   "source": [
    "# Recursive Feature Elimination\n",
    "estimator = RandomForestClassifier(n_estimators=50, random_state=42)\n",
    "selector_rfe = RFE(estimator, n_features_to_select=10)\n",
    "X_train_rfe = selector_rfe.fit_transform(X_train_scaled, y_train)\n",
    "X_test_rfe = selector_rfe.transform(X_test_scaled)\n",
    "\n",
    "# Show selected features\n",
    "selected_features_rfe = feature_names[selector_rfe.get_support()]\n",
    "print(f\"RFE selected features ({len(selected_features_rfe)}):\")\n",
    "for i, feature in enumerate(selected_features_rfe):\n",
    "    print(f\"{i+1}. {feature}\")"
   ]
  },
  {
   "cell_type": "markdown",
   "metadata": {},
   "source": [
    "## 4. Performance Evaluation"
   ]
  },
  {
   "cell_type": "code",
   "execution_count": null,
   "metadata": {},
   "outputs": [],
   "source": [
    "def evaluate_method(X_train, X_test, method_name):\n",
    "    \"\"\"Evaluate performance on train and test sets\"\"\"\n",
    "    model = RandomForestClassifier(random_state=42)\n",
    "    model.fit(X_train, y_train)\n",
    "    \n",
    "    train_acc = accuracy_score(y_train, model.predict(X_train))\n",
    "    test_acc = accuracy_score(y_test, model.predict(X_test))\n",
    "    \n",
    "    return {\n",
    "        'method': method_name,\n",
    "        'features': X_train.shape[1],\n",
    "        'train_acc': train_acc,\n",
    "        'test_acc': test_acc,\n",
    "        'gap': train_acc - test_acc\n",
    "    }\n",
    "\n",
    "# Evaluate all methods\n",
    "results = [\n",
    "    evaluate_method(X_train_scaled, X_test_scaled, 'Baseline'),\n",
    "    evaluate_method(X_train_f, X_test_f, 'Filter (F-test)'),\n",
    "    evaluate_method(X_train_rfe, X_test_rfe, 'Wrapper (RFE)')\n",
    "]\n",
    "\n",
    "# Display results\n",
    "df_results = pd.DataFrame(results)\n",
    "print(df_results.round(4))"
   ]
  },
  {
   "cell_type": "markdown",
   "metadata": {},
   "source": [
    "## 5. Visualization"
   ]
  },
  {
   "cell_type": "code",
   "execution_count": null,
   "metadata": {},
   "outputs": [],
   "source": [
    "import matplotlib.pyplot as plt\n",
    "\n",
    "# Plot comparison\n",
    "methods = df_results['method']\n",
    "train_accs = df_results['train_acc']\n",
    "test_accs = df_results['test_acc']\n",
    "\n",
    "x = range(len(methods))\n",
    "width = 0.35\n",
    "\n",
    "plt.figure(figsize=(10, 6))\n",
    "plt.bar([i - width/2 for i in x], train_accs, width, label='Train Accuracy', alpha=0.8)\n",
    "plt.bar([i + width/2 for i in x], test_accs, width, label='Test Accuracy', alpha=0.8)\n",
    "\n",
    "plt.xlabel('Feature Selection Method')\n",
    "plt.ylabel('Accuracy')\n",
    "plt.title('Feature Selection Methods Comparison')\n",
    "plt.xticks(x, methods)\n",
    "plt.legend()\n",
    "plt.grid(axis='y', alpha=0.3)\n",
    "plt.tight_layout()\n",
    "plt.show()"
   ]
  },
  {
   "cell_type": "markdown",
   "metadata": {},
   "source": [
    "## 6. Feature Importance Analysis"
   ]
  },
  {
   "cell_type": "code",
   "execution_count": null,
   "metadata": {},
   "outputs": [],
   "source": [
    "# Get F-test scores\n",
    "f_scores = selector_f.scores_\n",
    "selected_indices = selector_f.get_support(indices=True)\n",
    "\n",
    "# Create feature importance DataFrame\n",
    "feature_importance = pd.DataFrame({\n",
    "    'feature': feature_names[selected_indices],\n",
    "    'f_score': f_scores[selected_indices]\n",
    "}).sort_values('f_score', ascending=False)\n",
    "\n",
    "print(\"Top 10 Features by F-score:\")\n",
    "print(feature_importance)"
   ]
  },
  {
   "cell_type": "code",
   "execution_count": null,
   "metadata": {},
   "outputs": [],
   "source": [
    "# Plot feature importance\n",
    "plt.figure(figsize=(12, 6))\n",
    "plt.barh(range(len(feature_importance)), feature_importance['f_score'])\n",
    "plt.yticks(range(len(feature_importance)), feature_importance['feature'])\n",
    "plt.xlabel('F-score')\n",
    "plt.title('Feature Importance (F-test Scores)')\n",
    "plt.gca().invert_yaxis()\n",
    "plt.tight_layout()\n",
    "plt.show()"
   ]
  },
  {
   "cell_type": "markdown",
   "metadata": {},
   "source": [
    "## 7. Key Takeaways\n",
    "\n",
    "1. **Filter methods** are fast but may miss feature interactions\n",
    "2. **Wrapper methods** consider model performance but are slower\n",
    "3. **Always split data first** before feature selection\n",
    "4. **Monitor overfitting** by comparing train vs test accuracy\n",
    "5. **Feature selection** can maintain performance with fewer features"
   ]
  }
 ],
 "metadata": {
  "kernelspec": {
   "display_name": "Python 3",
   "language": "python",
   "name": "python3"
  },
  "language_info": {
   "codemirror_mode": {
    "name": "ipython",
    "version": 3
   },
   "file_extension": ".py",
   "mimetype": "text/x-python",
   "name": "python",
   "nbconvert_exporter": "python",
   "version": "3.8.5"
  }
 },
 "nbformat": 4,
 "nbformat_minor": 4
}
